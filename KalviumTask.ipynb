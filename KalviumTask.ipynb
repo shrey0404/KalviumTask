{
 "cells": [
  {
   "cell_type": "code",
   "execution_count": 12,
   "id": "718e9638-8464-4792-a811-f59b2fb68fa8",
   "metadata": {
    "tags": []
   },
   "outputs": [],
   "source": [
    "#adding the packages\n",
    "from bs4 import BeautifulSoup \n",
    "import requests\n",
    "import pandas as pd"
   ]
  },
  {
   "cell_type": "code",
   "execution_count": null,
   "id": "da5204ed-12c2-4226-96c1-55544a4ec37f",
   "metadata": {},
   "outputs": [],
   "source": [
    "#link where i data from the website"
   ]
  },
  {
   "cell_type": "code",
   "execution_count": 188,
   "id": "f6c3b5c7-2265-4645-87c2-04f715cd6fcd",
   "metadata": {
    "tags": []
   },
   "outputs": [],
   "source": [
    "url1 ='https://results.eci.gov.in/PcResultGenJune2024/index.htm'\n",
    "page1 = requests.get(url1)\n",
    "soup= BeautifulSoup(page1.text,'html')"
   ]
  },
  {
   "cell_type": "code",
   "execution_count": 189,
   "id": "02971443-6f58-4892-a301-75c4989102df",
   "metadata": {
    "tags": []
   },
   "outputs": [],
   "source": [
    "table = soup.find('table', {'class': 'table'})"
   ]
  },
  {
   "cell_type": "code",
   "execution_count": 192,
   "id": "7caf1a08-4570-405f-a516-1fee55587da4",
   "metadata": {
    "tags": []
   },
   "outputs": [],
   "source": [
    "# show the coloumns from the data"
   ]
  },
  {
   "cell_type": "code",
   "execution_count": 190,
   "id": "0ce9413f-ef69-4425-b955-4170e8d3ab69",
   "metadata": {
    "tags": []
   },
   "outputs": [],
   "source": [
    "headers = ['Party', 'Won', 'Leading', 'Total']"
   ]
  },
  {
   "cell_type": "code",
   "execution_count": null,
   "id": "d3508480-1398-467c-840b-2c198359d6ae",
   "metadata": {},
   "outputs": [],
   "source": [
    "#show the rows from the data"
   ]
  },
  {
   "cell_type": "code",
   "execution_count": 191,
   "id": "a3f7c84c-238d-4299-a291-7c76f0b05f99",
   "metadata": {
    "tags": []
   },
   "outputs": [],
   "source": [
    "rows = []\n",
    "for row in table.find_all('tr')[1:]:  # Skip the header row\n",
    "    cells = row.find_all('td')\n",
    "    rows.append([cell.text.strip() for cell in cells])"
   ]
  },
  {
   "cell_type": "code",
   "execution_count": 193,
   "id": "58c08f7d-077e-428a-9c1f-c08d1e8cf86e",
   "metadata": {
    "tags": []
   },
   "outputs": [],
   "source": [
    "#initialising the footer data which captures the total count of the data"
   ]
  },
  {
   "cell_type": "code",
   "execution_count": 194,
   "id": "3ecdc757-e0f2-4844-8ece-726cabe011fb",
   "metadata": {
    "tags": []
   },
   "outputs": [],
   "source": [
    "tfoot = table.find('tfoot')\n",
    "if tfoot:\n",
    "    total_row = tfoot.find('tr')\n",
    "    total_cells = total_row.find_all('th') if total_row else []\n",
    "    total_data = [cell.text.strip() for cell in total_cells]\n",
    "    if len(total_data) == len(headers):\n",
    "        rows.append(total_data)"
   ]
  },
  {
   "cell_type": "code",
   "execution_count": 195,
   "id": "eae850f7-dd49-4f6a-b6c9-8333efc3ca13",
   "metadata": {
    "tags": []
   },
   "outputs": [],
   "source": [
    "df = pd.DataFrame(rows, columns=headers)"
   ]
  },
  {
   "cell_type": "code",
   "execution_count": 196,
   "id": "03b84a11-118b-4e35-8901-ef41312aa14b",
   "metadata": {
    "tags": []
   },
   "outputs": [],
   "source": [
    "df = df.dropna()"
   ]
  },
  {
   "cell_type": "code",
   "execution_count": 197,
   "id": "a61f182a-ecd8-4624-847e-59ecc3b69dec",
   "metadata": {
    "collapsed": true,
    "jupyter": {
     "outputs_hidden": true
    },
    "tags": []
   },
   "outputs": [
    {
     "name": "stdout",
     "output_type": "stream",
     "text": [
      "                                                Party  Won Leading Total\n",
      "0                        Bharatiya Janata Party - BJP  240       0   240\n",
      "1                      Indian National Congress - INC   99       0    99\n",
      "2                                Samajwadi Party - SP   37       0    37\n",
      "3                 All India Trinamool Congress - AITC   29       0    29\n",
      "4                     Dravida Munnetra Kazhagam - DMK   22       0    22\n",
      "5                                  Telugu Desam - TDP   16       0    16\n",
      "6                        Janata Dal  (United) - JD(U)   12       0    12\n",
      "7      Shiv Sena (Uddhav Balasaheb Thackrey) - SHSUBT    9       0     9\n",
      "8   Nationalist Congress Party – Sharadchandra Paw...    8       0     8\n",
      "9                                     Shiv Sena - SHS    7       0     7\n",
      "10             Lok Janshakti Party(Ram Vilas) - LJPRV    5       0     5\n",
      "11      Yuvajana Sramika Rythu Congress Party - YSRCP    4       0     4\n",
      "12                         Rashtriya Janata Dal - RJD    4       0     4\n",
      "13       Communist Party of India  (Marxist) - CPI(M)    4       0     4\n",
      "14                  Indian Union Muslim League - IUML    3       0     3\n",
      "15                             Aam Aadmi Party - AAAP    3       0     3\n",
      "16                       Jharkhand Mukti Morcha - JMM    3       0     3\n",
      "17                               Janasena Party - JnP    2       0     2\n",
      "18  Communist Party of India  (Marxist-Leninist)  ...    2       0     2\n",
      "19                      Janata Dal  (Secular) - JD(S)    2       0     2\n",
      "20               Viduthalai Chiruthaigal Katchi - VCK    2       0     2\n",
      "21                     Communist Party of India - CPI    2       0     2\n",
      "22                            Rashtriya Lok Dal - RLD    2       0     2\n",
      "23          Jammu & Kashmir National Conference - JKN    2       0     2\n",
      "24              United People’s Party, Liberal - UPPL    1       0     1\n",
      "25                           Asom Gana Parishad - AGP    1       0     1\n",
      "26            Hindustani Awam Morcha (Secular) - HAMS    1       0     1\n",
      "27                              Kerala Congress - KEC    1       0     1\n",
      "28                Revolutionary Socialist Party - RSP    1       0     1\n",
      "29                   Nationalist Congress Party - NCP    1       0     1\n",
      "30                  Voice of the People Party - VOTPP    1       0     1\n",
      "31                      Zoram People’s Movement - ZPM    1       0     1\n",
      "32                          Shiromani Akali Dal - SAD    1       0     1\n",
      "33                  Rashtriya Loktantrik Party - RLTP    1       0     1\n",
      "34                  Bharat Adivasi Party - BHRTADVSIP    1       0     1\n",
      "35                     Sikkim Krantikari Morcha - SKM    1       0     1\n",
      "36      Marumalarchi Dravida Munnetra Kazhagam - MDMK    1       0     1\n",
      "37             Aazad Samaj Party (Kanshi Ram) - ASPKR    1       0     1\n",
      "38                         Apna Dal (Soneylal) - ADAL    1       0     1\n",
      "39                                 AJSU Party - AJSUP    1       0     1\n",
      "40     All India Majlis-E-Ittehadul Muslimeen - AIMIM    1       0     1\n",
      "41                                  Independent - IND    7       0     7\n",
      "43                                              Total  543       0   543\n"
     ]
    }
   ],
   "source": [
    "print(df)"
   ]
  },
  {
   "cell_type": "code",
   "execution_count": 198,
   "id": "e8f224a8-8e21-4dd6-b2a6-aaafb5d922a5",
   "metadata": {
    "tags": []
   },
   "outputs": [],
   "source": [
    "df.to_csv('national_data.csv', index=False)"
   ]
  },
  {
   "cell_type": "code",
   "execution_count": 199,
   "id": "69d7c0e6-3d0c-4d54-9030-41b90f98b042",
   "metadata": {
    "collapsed": true,
    "jupyter": {
     "outputs_hidden": true
    },
    "tags": []
   },
   "outputs": [
    {
     "name": "stdout",
     "output_type": "stream",
     "text": [
      "Data saved to national_data.csv\n"
     ]
    }
   ],
   "source": [
    "print(\"Data saved to national_data.csv\")"
   ]
  },
  {
   "cell_type": "code",
   "execution_count": 204,
   "id": "670ea3e5-d570-4ec9-ade1-e148111a23bc",
   "metadata": {
    "tags": []
   },
   "outputs": [],
   "source": [
    "df = pd.read_csv('national_data.csv')"
   ]
  },
  {
   "cell_type": "code",
   "execution_count": 205,
   "id": "441b55dc-6f44-405c-a289-0d4a3831b13f",
   "metadata": {
    "tags": []
   },
   "outputs": [],
   "source": [
    "#Insight 1 - POLITICAL STRENGTH:"
   ]
  },
  {
   "cell_type": "code",
   "execution_count": 207,
   "id": "e148852f-cb65-4ad7-bd11-e654315ffdae",
   "metadata": {
    "collapsed": true,
    "jupyter": {
     "outputs_hidden": true
    },
    "tags": []
   },
   "outputs": [
    {
     "name": "stdout",
     "output_type": "stream",
     "text": [
      "1. Political Strength of Parties:\n",
      "                                                Party  Won  Leading  Total\n",
      "42                                              Total  543        0    543\n",
      "0                        Bharatiya Janata Party - BJP  240        0    240\n",
      "1                      Indian National Congress - INC   99        0     99\n",
      "2                                Samajwadi Party - SP   37        0     37\n",
      "3                 All India Trinamool Congress - AITC   29        0     29\n",
      "4                     Dravida Munnetra Kazhagam - DMK   22        0     22\n",
      "5                                  Telugu Desam - TDP   16        0     16\n",
      "6                        Janata Dal  (United) - JD(U)   12        0     12\n",
      "7      Shiv Sena (Uddhav Balasaheb Thackrey) - SHSUBT    9        0      9\n",
      "8   Nationalist Congress Party – Sharadchandra Paw...    8        0      8\n",
      "9                                     Shiv Sena - SHS    7        0      7\n",
      "41                                  Independent - IND    7        0      7\n",
      "10             Lok Janshakti Party(Ram Vilas) - LJPRV    5        0      5\n",
      "12                         Rashtriya Janata Dal - RJD    4        0      4\n",
      "13       Communist Party of India  (Marxist) - CPI(M)    4        0      4\n",
      "11      Yuvajana Sramika Rythu Congress Party - YSRCP    4        0      4\n",
      "14                  Indian Union Muslim League - IUML    3        0      3\n",
      "15                             Aam Aadmi Party - AAAP    3        0      3\n",
      "16                       Jharkhand Mukti Morcha - JMM    3        0      3\n",
      "23          Jammu & Kashmir National Conference - JKN    2        0      2\n",
      "22                            Rashtriya Lok Dal - RLD    2        0      2\n",
      "20               Viduthalai Chiruthaigal Katchi - VCK    2        0      2\n",
      "19                      Janata Dal  (Secular) - JD(S)    2        0      2\n",
      "17                               Janasena Party - JnP    2        0      2\n",
      "21                     Communist Party of India - CPI    2        0      2\n",
      "18  Communist Party of India  (Marxist-Leninist)  ...    2        0      2\n",
      "25                           Asom Gana Parishad - AGP    1        0      1\n",
      "26            Hindustani Awam Morcha (Secular) - HAMS    1        0      1\n",
      "40     All India Majlis-E-Ittehadul Muslimeen - AIMIM    1        0      1\n",
      "39                                 AJSU Party - AJSUP    1        0      1\n",
      "38                         Apna Dal (Soneylal) - ADAL    1        0      1\n",
      "37             Aazad Samaj Party (Kanshi Ram) - ASPKR    1        0      1\n",
      "36      Marumalarchi Dravida Munnetra Kazhagam - MDMK    1        0      1\n",
      "35                     Sikkim Krantikari Morcha - SKM    1        0      1\n",
      "34                  Bharat Adivasi Party - BHRTADVSIP    1        0      1\n",
      "33                  Rashtriya Loktantrik Party - RLTP    1        0      1\n",
      "24              United People’s Party, Liberal - UPPL    1        0      1\n",
      "31                      Zoram People’s Movement - ZPM    1        0      1\n",
      "30                  Voice of the People Party - VOTPP    1        0      1\n",
      "29                   Nationalist Congress Party - NCP    1        0      1\n",
      "28                Revolutionary Socialist Party - RSP    1        0      1\n",
      "27                              Kerala Congress - KEC    1        0      1\n",
      "32                          Shiromani Akali Dal - SAD    1        0      1\n"
     ]
    }
   ],
   "source": [
    "political_strength = df.sort_values(by='Won', ascending=False)\n",
    "print(\"1. Political Strength of Parties:\")\n",
    "print(political_strength)"
   ]
  },
  {
   "cell_type": "code",
   "execution_count": 208,
   "id": "82d36f0a-2078-4456-a79c-6c99b7e33982",
   "metadata": {
    "tags": []
   },
   "outputs": [],
   "source": [
    " #Insight 2 - EMERGING PARTIES:"
   ]
  },
  {
   "cell_type": "code",
   "execution_count": 209,
   "id": "1218a853-194c-4e9d-94ac-0787c82d0cc3",
   "metadata": {
    "collapsed": true,
    "jupyter": {
     "outputs_hidden": true
    },
    "tags": []
   },
   "outputs": [
    {
     "name": "stdout",
     "output_type": "stream",
     "text": [
      "\n",
      "2. Emerging Parties:\n",
      "10               Lok Janshakti Party(Ram Vilas) - LJPRV\n",
      "11        Yuvajana Sramika Rythu Congress Party - YSRCP\n",
      "12                           Rashtriya Janata Dal - RJD\n",
      "13         Communist Party of India  (Marxist) - CPI(M)\n",
      "14                    Indian Union Muslim League - IUML\n",
      "15                               Aam Aadmi Party - AAAP\n",
      "16                         Jharkhand Mukti Morcha - JMM\n",
      "17                                 Janasena Party - JnP\n",
      "18    Communist Party of India  (Marxist-Leninist)  ...\n",
      "19                        Janata Dal  (Secular) - JD(S)\n",
      "20                 Viduthalai Chiruthaigal Katchi - VCK\n",
      "21                       Communist Party of India - CPI\n",
      "22                              Rashtriya Lok Dal - RLD\n",
      "23            Jammu & Kashmir National Conference - JKN\n",
      "24                United People’s Party, Liberal - UPPL\n",
      "25                             Asom Gana Parishad - AGP\n",
      "26              Hindustani Awam Morcha (Secular) - HAMS\n",
      "27                                Kerala Congress - KEC\n",
      "28                  Revolutionary Socialist Party - RSP\n",
      "29                     Nationalist Congress Party - NCP\n",
      "30                    Voice of the People Party - VOTPP\n",
      "31                        Zoram People’s Movement - ZPM\n",
      "32                            Shiromani Akali Dal - SAD\n",
      "33                    Rashtriya Loktantrik Party - RLTP\n",
      "34                    Bharat Adivasi Party - BHRTADVSIP\n",
      "35                       Sikkim Krantikari Morcha - SKM\n",
      "36        Marumalarchi Dravida Munnetra Kazhagam - MDMK\n",
      "37               Aazad Samaj Party (Kanshi Ram) - ASPKR\n",
      "38                           Apna Dal (Soneylal) - ADAL\n",
      "39                                   AJSU Party - AJSUP\n",
      "40       All India Majlis-E-Ittehadul Muslimeen - AIMIM\n",
      "Name: Party, dtype: object\n"
     ]
    }
   ],
   "source": [
    "emerging_parties = df[df['Won'] <= 5]['Party']\n",
    "print(\"\\n2. Emerging Parties:\")\n",
    "print(emerging_parties)"
   ]
  },
  {
   "cell_type": "code",
   "execution_count": 210,
   "id": "9c3d9ef4-97ca-4b78-b9b4-bb611c8bec36",
   "metadata": {
    "tags": []
   },
   "outputs": [],
   "source": [
    "#Insight 3 - IMPACT ON GIVERNANCE"
   ]
  },
  {
   "cell_type": "code",
   "execution_count": 211,
   "id": "84511cd1-1a1c-4b5e-ac39-a3d6eb164262",
   "metadata": {
    "collapsed": true,
    "jupyter": {
     "outputs_hidden": true
    },
    "tags": []
   },
   "outputs": [
    {
     "name": "stdout",
     "output_type": "stream",
     "text": [
      "\n",
      "3. Impact on Governance:\n",
      "Total seats won across all parties: 1086\n",
      "Percentage share of seats by party:\n",
      "                                                Party  Percentage of Seats Won\n",
      "42                                              Total                50.000000\n",
      "0                        Bharatiya Janata Party - BJP                22.099448\n",
      "1                      Indian National Congress - INC                 9.116022\n",
      "2                                Samajwadi Party - SP                 3.406998\n",
      "3                 All India Trinamool Congress - AITC                 2.670350\n",
      "4                     Dravida Munnetra Kazhagam - DMK                 2.025783\n",
      "5                                  Telugu Desam - TDP                 1.473297\n",
      "6                        Janata Dal  (United) - JD(U)                 1.104972\n",
      "7      Shiv Sena (Uddhav Balasaheb Thackrey) - SHSUBT                 0.828729\n",
      "8   Nationalist Congress Party – Sharadchandra Paw...                 0.736648\n",
      "9                                     Shiv Sena - SHS                 0.644567\n",
      "41                                  Independent - IND                 0.644567\n",
      "10             Lok Janshakti Party(Ram Vilas) - LJPRV                 0.460405\n",
      "12                         Rashtriya Janata Dal - RJD                 0.368324\n",
      "13       Communist Party of India  (Marxist) - CPI(M)                 0.368324\n",
      "11      Yuvajana Sramika Rythu Congress Party - YSRCP                 0.368324\n",
      "14                  Indian Union Muslim League - IUML                 0.276243\n",
      "15                             Aam Aadmi Party - AAAP                 0.276243\n",
      "16                       Jharkhand Mukti Morcha - JMM                 0.276243\n",
      "23          Jammu & Kashmir National Conference - JKN                 0.184162\n",
      "22                            Rashtriya Lok Dal - RLD                 0.184162\n",
      "20               Viduthalai Chiruthaigal Katchi - VCK                 0.184162\n",
      "19                      Janata Dal  (Secular) - JD(S)                 0.184162\n",
      "17                               Janasena Party - JnP                 0.184162\n",
      "21                     Communist Party of India - CPI                 0.184162\n",
      "18  Communist Party of India  (Marxist-Leninist)  ...                 0.184162\n",
      "25                           Asom Gana Parishad - AGP                 0.092081\n",
      "26            Hindustani Awam Morcha (Secular) - HAMS                 0.092081\n",
      "40     All India Majlis-E-Ittehadul Muslimeen - AIMIM                 0.092081\n",
      "39                                 AJSU Party - AJSUP                 0.092081\n",
      "38                         Apna Dal (Soneylal) - ADAL                 0.092081\n",
      "37             Aazad Samaj Party (Kanshi Ram) - ASPKR                 0.092081\n",
      "36      Marumalarchi Dravida Munnetra Kazhagam - MDMK                 0.092081\n",
      "35                     Sikkim Krantikari Morcha - SKM                 0.092081\n",
      "34                  Bharat Adivasi Party - BHRTADVSIP                 0.092081\n",
      "33                  Rashtriya Loktantrik Party - RLTP                 0.092081\n",
      "24              United People’s Party, Liberal - UPPL                 0.092081\n",
      "31                      Zoram People’s Movement - ZPM                 0.092081\n",
      "30                  Voice of the People Party - VOTPP                 0.092081\n",
      "29                   Nationalist Congress Party - NCP                 0.092081\n",
      "28                Revolutionary Socialist Party - RSP                 0.092081\n",
      "27                              Kerala Congress - KEC                 0.092081\n",
      "32                          Shiromani Akali Dal - SAD                 0.092081\n"
     ]
    }
   ],
   "source": [
    "total_seats = df['Won'].sum()\n",
    "party_share = df[['Party', 'Won']].copy()\n",
    "party_share['Percentage of Seats Won'] = (party_share['Won'] / total_seats) * 100\n",
    "party_share_sorted = party_share.sort_values(by='Percentage of Seats Won', ascending=False)\n",
    "\n",
    "print(\"\\n3. Impact on Governance:\")\n",
    "print(f\"Total seats won across all parties: {total_seats}\")\n",
    "print(\"Percentage share of seats by party:\")\n",
    "print(party_share_sorted[['Party', 'Percentage of Seats Won']])"
   ]
  },
  {
   "cell_type": "code",
   "execution_count": 212,
   "id": "f8be6c36-bd83-4163-a363-a81e8135b552",
   "metadata": {
    "tags": []
   },
   "outputs": [],
   "source": [
    "#Make another data for Maharahtra LokSabha Elections"
   ]
  },
  {
   "cell_type": "code",
   "execution_count": 213,
   "id": "437a878d-bc98-4f1d-9357-83bf2fc6a4c2",
   "metadata": {
    "tags": []
   },
   "outputs": [],
   "source": [
    "url2 = 'https://results.eci.gov.in/PcResultGenJune2024/partywiseresult-S13.htm'\n",
    "page2 = requests.get(url2)\n",
    "soup2 = BeautifulSoup(page2.text, 'html')"
   ]
  },
  {
   "cell_type": "code",
   "execution_count": 214,
   "id": "601fb7a1-1484-4577-9d5d-82408ce4f24c",
   "metadata": {
    "tags": []
   },
   "outputs": [],
   "source": [
    "table2 = soup2.find('table', {'class': 'table'})"
   ]
  },
  {
   "cell_type": "code",
   "execution_count": 215,
   "id": "16b915fc-d1ee-4980-9d86-a2fe0841c1be",
   "metadata": {
    "tags": []
   },
   "outputs": [],
   "source": [
    "headers2 = ['Party', 'Won', 'Leading', 'Total']"
   ]
  },
  {
   "cell_type": "code",
   "execution_count": 216,
   "id": "e113d0a8-13d0-43f9-a069-2a06744eeae7",
   "metadata": {
    "tags": []
   },
   "outputs": [],
   "source": [
    "rows2 = []\n",
    "for row in table2.find_all('tr')[1:]:  # Skip the header row\n",
    "    cells = row.find_all('td')\n",
    "    row_data = [cell.text.strip() for cell in cells]\n",
    "    rows2.append(row_data)"
   ]
  },
  {
   "cell_type": "code",
   "execution_count": 217,
   "id": "a21fdb0b-c176-43ec-95c9-03412ffb53df",
   "metadata": {
    "tags": []
   },
   "outputs": [],
   "source": [
    "tfoot2 = table2.find('tfoot')\n",
    "if tfoot2:\n",
    "    total_row2 = tfoot2.find('tr')\n",
    "    total_cells2 = total_row2.find_all('th') if total_row2 else []\n",
    "    total_data2 = [cell.text.strip() for cell in total_cells2]\n",
    "    if len(total_data2) == len(headers2):\n",
    "        rows2.append(total_data2)"
   ]
  },
  {
   "cell_type": "code",
   "execution_count": 218,
   "id": "ae5a0251-3b42-45a9-b75c-188e4bddc9f9",
   "metadata": {
    "tags": []
   },
   "outputs": [],
   "source": [
    "df2 = pd.DataFrame(rows2, columns=headers2)"
   ]
  },
  {
   "cell_type": "code",
   "execution_count": 219,
   "id": "6b40985b-590f-41fd-9c5b-5618c9322384",
   "metadata": {
    "tags": []
   },
   "outputs": [],
   "source": [
    "df2 = df2.dropna()"
   ]
  },
  {
   "cell_type": "code",
   "execution_count": 221,
   "id": "f589fc0e-6e49-4e23-aa10-f0f85fb0d630",
   "metadata": {
    "tags": []
   },
   "outputs": [],
   "source": [
    "#printing the Maharatra LokSabha elections DATA:"
   ]
  },
  {
   "cell_type": "code",
   "execution_count": 222,
   "id": "c40dc1df-d7cc-4b2e-b9bc-9df34f080876",
   "metadata": {
    "collapsed": true,
    "jupyter": {
     "outputs_hidden": true
    },
    "tags": []
   },
   "outputs": [
    {
     "name": "stdout",
     "output_type": "stream",
     "text": [
      "                                               Party Won Leading Total\n",
      "0                     Indian National Congress - INC  13       0    13\n",
      "1                       Bharatiya Janata Party - BJP   9       0     9\n",
      "2     Shiv Sena (Uddhav Balasaheb Thackrey) - SHSUBT   9       0     9\n",
      "3  Nationalist Congress Party – Sharadchandra Paw...   8       0     8\n",
      "4                                    Shiv Sena - SHS   7       0     7\n",
      "5                   Nationalist Congress Party - NCP   1       0     1\n",
      "6                                  Independent - IND   1       0     1\n",
      "8                                              Total  48       0    48\n"
     ]
    }
   ],
   "source": [
    "print(df2)"
   ]
  },
  {
   "cell_type": "code",
   "execution_count": 223,
   "id": "c8868ec2-1781-4ab3-b99b-a5aa591f8ece",
   "metadata": {
    "tags": []
   },
   "outputs": [],
   "source": [
    "df2.to_csv('state_data_maharashtra.csv', index=False)"
   ]
  },
  {
   "cell_type": "code",
   "execution_count": 224,
   "id": "00aa13f2-3a40-44cc-a2d8-ac004adcc1da",
   "metadata": {
    "tags": []
   },
   "outputs": [
    {
     "name": "stdout",
     "output_type": "stream",
     "text": [
      "Maharashtra elections saved to state_data_maharashtra.csv\n"
     ]
    }
   ],
   "source": [
    "print(\"Maharashtra elections saved to state_data_maharashtra.csv\")"
   ]
  },
  {
   "cell_type": "code",
   "execution_count": 226,
   "id": "7b99da82-37e0-4917-8709-f7618797f5b4",
   "metadata": {
    "tags": []
   },
   "outputs": [],
   "source": [
    "#Insight 4 - Represent Winning Party among other contestent"
   ]
  },
  {
   "cell_type": "code",
   "execution_count": 227,
   "id": "638f7979-0c9c-4c49-af93-d06beaad60e1",
   "metadata": {
    "collapsed": true,
    "jupyter": {
     "outputs_hidden": true
    },
    "tags": []
   },
   "outputs": [
    {
     "name": "stdout",
     "output_type": "stream",
     "text": [
      "                                               Party  Won  Leading  Total\n",
      "0                     Indian National Congress - INC   13        0     13\n",
      "1                       Bharatiya Janata Party - BJP    9        0      9\n",
      "2     Shiv Sena (Uddhav Balasaheb Thackrey) - SHSUBT    9        0      9\n",
      "3  Nationalist Congress Party – Sharadchandra Paw...    8        0      8\n",
      "4                                    Shiv Sena - SHS    7        0      7\n",
      "5                   Nationalist Congress Party - NCP    1        0      1\n",
      "6                                  Independent - IND    1        0      1\n",
      "7                                              Total   48        0     48\n",
      "\n",
      "Top Winning Party:\n",
      "                            Party  Won  Leading  Total\n",
      "0  Indian National Congress - INC   13        0     13\n"
     ]
    }
   ],
   "source": [
    "# Load the df2 DataFrame from CSV\n",
    "df2 = pd.read_csv('state_data_maharashtra.csv')\n",
    "\n",
    "# Display the DataFrame to verify\n",
    "print(df2)\n",
    "\n",
    "# Convert numeric columns ('Won', 'Leading', 'Total') to numeric type, coercing errors to NaN\n",
    "df2[['Won', 'Leading', 'Total']] = df2[['Won', 'Leading', 'Total']].apply(pd.to_numeric, errors='coerce')\n",
    "\n",
    "# Drop rows where any of 'Won', 'Leading', or 'Total' columns contain NaN\n",
    "df2.dropna(subset=['Won', 'Leading', 'Total'], inplace=True)\n",
    "\n",
    "# Find the party with the most seats won (excluding the 'Total' row)\n",
    "top_winning_party = df2[df2['Party'] != 'Total'].nlargest(1, 'Won')\n",
    "\n",
    "# Display insights\n",
    "print(\"\\nTop Winning Party:\")\n",
    "print(top_winning_party[['Party', 'Won', 'Leading', 'Total']])\n"
   ]
  },
  {
   "cell_type": "code",
   "execution_count": 229,
   "id": "05f1204c-88d8-43ff-8518-5f6735b370a8",
   "metadata": {
    "tags": []
   },
   "outputs": [],
   "source": [
    "#Insight 5 - Perecentage of Political Governance on Maharastra"
   ]
  },
  {
   "cell_type": "code",
   "execution_count": 228,
   "id": "41e72d62-3da2-4fa5-882f-4a788b177d94",
   "metadata": {
    "collapsed": true,
    "jupyter": {
     "outputs_hidden": true
    },
    "tags": []
   },
   "outputs": [
    {
     "name": "stdout",
     "output_type": "stream",
     "text": [
      "Percentage of Political Governance by Party:\n",
      "                                               Party  Won  Percentage\n",
      "0                     Indian National Congress - INC   13   13.541667\n",
      "1                       Bharatiya Janata Party - BJP    9    9.375000\n",
      "2     Shiv Sena (Uddhav Balasaheb Thackrey) - SHSUBT    9    9.375000\n",
      "3  Nationalist Congress Party – Sharadchandra Paw...    8    8.333333\n",
      "4                                    Shiv Sena - SHS    7    7.291667\n",
      "5                   Nationalist Congress Party - NCP    1    1.041667\n",
      "6                                  Independent - IND    1    1.041667\n",
      "7                                              Total   48   50.000000\n",
      "\n",
      "Party with Highest Percentage of Seats Won:\n",
      "                            Party  Won  Percentage\n",
      "0  Indian National Congress - INC   13   13.541667\n"
     ]
    }
   ],
   "source": [
    "# Load the df2 DataFrame from CSV\n",
    "df2 = pd.read_csv('state_data_maharashtra.csv')\n",
    "\n",
    "# Convert numeric columns ('Won', 'Leading', 'Total') to numeric type, coercing errors to NaN\n",
    "df2[['Won', 'Leading', 'Total']] = df2[['Won', 'Leading', 'Total']].apply(pd.to_numeric, errors='coerce')\n",
    "\n",
    "# Drop rows where any of 'Won', 'Leading', or 'Total' columns contain NaN\n",
    "df2.dropna(subset=['Won', 'Leading', 'Total'], inplace=True)\n",
    "\n",
    "# Calculate total seats won\n",
    "total_seats = df2['Won'].sum()\n",
    "\n",
    "# Calculate percentage of political governance for each party\n",
    "df2['Percentage'] = (df2['Won'] / total_seats) * 100\n",
    "\n",
    "# Display insights\n",
    "print(\"Percentage of Political Governance by Party:\")\n",
    "print(df2[['Party', 'Won', 'Percentage']])\n",
    "\n",
    "# Find the party with the highest percentage of seats won\n",
    "top_percentage_party = df2[df2['Party'] != 'Total'].nlargest(1, 'Percentage')\n",
    "\n",
    "# Display top percentage party\n",
    "print(\"\\nParty with Highest Percentage of Seats Won:\")\n",
    "print(top_percentage_party[['Party', 'Won', 'Percentage']])"
   ]
  },
  {
   "cell_type": "code",
   "execution_count": 250,
   "id": "04fce7d1-8115-4698-85a1-3fce48ebdf57",
   "metadata": {
    "tags": []
   },
   "outputs": [],
   "source": [
    "#Insight 6 - Representation and Diverstity of Seats in Maharastra"
   ]
  },
  {
   "cell_type": "code",
   "execution_count": 251,
   "id": "dfa9d85b-572f-4ee0-ae0d-ff0347130efa",
   "metadata": {
    "collapsed": true,
    "jupyter": {
     "outputs_hidden": true
    },
    "tags": []
   },
   "outputs": [
    {
     "name": "stdout",
     "output_type": "stream",
     "text": [
      "\n",
      "Representation and Diversity:\n",
      "Total number of parties contested: 7\n",
      "Number of parties winning seats: 8\n",
      "Number of parties winning majority (>50% seats): 0\n"
     ]
    }
   ],
   "source": [
    "\n",
    "# Load the df2 DataFrame from CSV\n",
    "df2 = pd.read_csv('state_data_maharashtra.csv')\n",
    "\n",
    "# Convert numeric columns ('Won', 'Leading', 'Total') to numeric type, coercing errors to NaN\n",
    "df2[['Won', 'Leading', 'Total']] = df2[['Won', 'Leading', 'Total']].apply(pd.to_numeric, errors='coerce')\n",
    "\n",
    "# Drop rows where any of 'Won', 'Leading', or 'Total' columns contain NaN\n",
    "df2.dropna(subset=['Won', 'Leading', 'Total'], inplace=True)\n",
    "\n",
    "# Calculate total number of parties contested (excluding 'Total' row)\n",
    "total_parties_contested = df2.shape[0] - 1\n",
    "\n",
    "# Filter parties that have won at least one seat\n",
    "parties_winning_seats = df2[df2['Won'] > 0]\n",
    "\n",
    "# Calculate total number of parties winning seats\n",
    "num_parties_winning_seats = parties_winning_seats.shape[0]\n",
    "\n",
    "# Calculate total number of seats won across all parties\n",
    "total_seats = df2['Won'].sum()\n",
    "\n",
    "# Calculate parties winning majority (>50% of total seats)\n",
    "majority_threshold = total_seats / 2\n",
    "parties_winning_majority = parties_winning_seats[parties_winning_seats['Won'] > majority_threshold]\n",
    "\n",
    "# Calculate number of parties winning majority\n",
    "num_parties_winning_majority = parties_winning_majority.shape[0]\n",
    "\n",
    "# Display insights about representation and diversity\n",
    "print(\"\\nRepresentation and Diversity:\")\n",
    "print(f\"Total number of parties contested: {total_parties_contested}\")\n",
    "print(f\"Number of parties winning seats: {num_parties_winning_seats}\")\n",
    "print(f\"Number of parties winning majority (>50% seats): {num_parties_winning_majority}\")\n"
   ]
  },
  {
   "cell_type": "code",
   "execution_count": 240,
   "id": "949f6014-98e6-4e66-8a49-d3dd5577d913",
   "metadata": {
    "tags": []
   },
   "outputs": [],
   "source": [
    "# Combined Data of National Elections and Maharastra Elections"
   ]
  },
  {
   "cell_type": "code",
   "execution_count": 234,
   "id": "37828c10-ec84-4a11-bcda-5aeb9651008f",
   "metadata": {
    "collapsed": true,
    "jupyter": {
     "outputs_hidden": true
    },
    "tags": []
   },
   "outputs": [
    {
     "name": "stdout",
     "output_type": "stream",
     "text": [
      "\n",
      "Combined Insights:\n",
      "                                               Party  Won_national  \\\n",
      "0                       Bharatiya Janata Party - BJP           240   \n",
      "1                     Indian National Congress - INC            99   \n",
      "2                               Samajwadi Party - SP            37   \n",
      "3                All India Trinamool Congress - AITC            29   \n",
      "4                    Dravida Munnetra Kazhagam - DMK            22   \n",
      "5                                 Telugu Desam - TDP            16   \n",
      "6                       Janata Dal  (United) - JD(U)            12   \n",
      "7     Shiv Sena (Uddhav Balasaheb Thackrey) - SHSUBT             9   \n",
      "8  Nationalist Congress Party – Sharadchandra Paw...             8   \n",
      "9                                    Shiv Sena - SHS             7   \n",
      "\n",
      "   Won_maharashtra  \n",
      "0              9.0  \n",
      "1             13.0  \n",
      "2              NaN  \n",
      "3              NaN  \n",
      "4              NaN  \n",
      "5              NaN  \n",
      "6              NaN  \n",
      "7              9.0  \n",
      "8              8.0  \n",
      "9              7.0  \n"
     ]
    }
   ],
   "source": [
    "# Load df (National stats) and df2 (Maharashtra stats)\n",
    "df = pd.read_csv('national_data.csv')\n",
    "df2 = pd.read_csv('state_data_maharashtra.csv')\n",
    "\n",
    "# Exclude the 'Total' rows from both datasets\n",
    "df = df[df['Party'] != 'Total']\n",
    "df2 = df2[df2['Party'] != 'Total']\n",
    "\n",
    "# Merge datasets based on the common party names\n",
    "merged_data = pd.merge(df, df2, on='Party', suffixes=('_national', '_maharashtra'), how='outer')\n",
    "\n",
    "# Display combined insights\n",
    "print(\"\\nCombined Insights:\")\n",
    "print(merged_data[['Party', 'Won_national', 'Won_maharashtra']].head(10))"
   ]
  },
  {
   "cell_type": "code",
   "execution_count": 235,
   "id": "e997f954-f1c7-4704-a043-fcbcdc896b53",
   "metadata": {
    "tags": []
   },
   "outputs": [],
   "source": [
    "# Calculate total seats won in each dataset\n",
    "total_seats_national = df['Won'].sum()\n",
    "total_seats_maharashtra = df2['Won'].sum()"
   ]
  },
  {
   "cell_type": "code",
   "execution_count": 236,
   "id": "e3412e9c-55f9-4e4d-9222-ede3187f8cef",
   "metadata": {
    "tags": []
   },
   "outputs": [],
   "source": [
    "# Calculate percentage representation\n",
    "merged_data['Percentage_national'] = (merged_data['Won_national'] / total_seats_national) * 100\n",
    "merged_data['Percentage_maharashtra'] = (merged_data['Won_maharashtra'] / total_seats_maharashtra) * 100"
   ]
  },
  {
   "cell_type": "code",
   "execution_count": 238,
   "id": "fb0b5f2e-aff8-4ebc-9566-1dad8789c5d6",
   "metadata": {
    "tags": []
   },
   "outputs": [],
   "source": [
    "#Insight 7 - Display Percentage difference in National and Maharastra Elections"
   ]
  },
  {
   "cell_type": "code",
   "execution_count": 239,
   "id": "49077e74-8428-4ca0-96f1-322f59cc4175",
   "metadata": {
    "collapsed": true,
    "jupyter": {
     "outputs_hidden": true
    },
    "tags": []
   },
   "outputs": [
    {
     "name": "stdout",
     "output_type": "stream",
     "text": [
      "\n",
      "Party Representation Percentage:\n",
      "                                               Party  Percentage_national  \\\n",
      "0                       Bharatiya Janata Party - BJP            44.198895   \n",
      "1                     Indian National Congress - INC            18.232044   \n",
      "2                               Samajwadi Party - SP             6.813996   \n",
      "3                All India Trinamool Congress - AITC             5.340700   \n",
      "4                    Dravida Munnetra Kazhagam - DMK             4.051565   \n",
      "5                                 Telugu Desam - TDP             2.946593   \n",
      "6                       Janata Dal  (United) - JD(U)             2.209945   \n",
      "7     Shiv Sena (Uddhav Balasaheb Thackrey) - SHSUBT             1.657459   \n",
      "8  Nationalist Congress Party – Sharadchandra Paw...             1.473297   \n",
      "9                                    Shiv Sena - SHS             1.289134   \n",
      "\n",
      "   Percentage_maharashtra  \n",
      "0               18.750000  \n",
      "1               27.083333  \n",
      "2                     NaN  \n",
      "3                     NaN  \n",
      "4                     NaN  \n",
      "5                     NaN  \n",
      "6                     NaN  \n",
      "7               18.750000  \n",
      "8               16.666667  \n",
      "9               14.583333  \n"
     ]
    }
   ],
   "source": [
    "# Display percentages\n",
    "print(\"\\nParty Representation Percentage:\")\n",
    "print(merged_data[['Party', 'Percentage_national', 'Percentage_maharashtra']].head(10))"
   ]
  },
  {
   "cell_type": "code",
   "execution_count": 242,
   "id": "6a49caef-4b73-4cb6-8550-850a57a7f1aa",
   "metadata": {
    "tags": []
   },
   "outputs": [],
   "source": [
    "#Insight 8 - Leading Parties of National and Maharatra Seats in Elections"
   ]
  },
  {
   "cell_type": "code",
   "execution_count": 243,
   "id": "458e0a84-9c11-4a3e-a8bf-33b479c4118d",
   "metadata": {
    "collapsed": true,
    "jupyter": {
     "outputs_hidden": true
    },
    "tags": []
   },
   "outputs": [
    {
     "name": "stdout",
     "output_type": "stream",
     "text": [
      "\n",
      "Leading Parties:\n",
      "Top party in National elections:\n",
      "                          Party  Won_national\n",
      "0  Bharatiya Janata Party - BJP           240\n",
      "\n",
      "Top party in Maharashtra elections:\n",
      "                            Party  Won_maharashtra\n",
      "1  Indian National Congress - INC             13.0\n"
     ]
    }
   ],
   "source": [
    "#leading parties\n",
    "top_national_party = merged_data.nlargest(1, 'Won_national')\n",
    "top_maharashtra_party = merged_data.nlargest(1, 'Won_maharashtra')\n",
    "print(\"\\nLeading Parties:\")\n",
    "print(\"Top party in National elections:\")\n",
    "print(top_national_party[['Party', 'Won_national']])\n",
    "print(\"\\nTop party in Maharashtra elections:\")\n",
    "print(top_maharashtra_party[['Party', 'Won_maharashtra']])\n"
   ]
  },
  {
   "cell_type": "code",
   "execution_count": 244,
   "id": "e1ed0ac4-63db-4436-a547-18ebf3ca15a8",
   "metadata": {
    "tags": []
   },
   "outputs": [],
   "source": [
    "#Insight 9 - Party Performance in National and Maharste Seats .."
   ]
  },
  {
   "cell_type": "code",
   "execution_count": 245,
   "id": "2680cb79-76b4-41a4-bff2-e410191cefd2",
   "metadata": {
    "collapsed": true,
    "jupyter": {
     "outputs_hidden": true
    },
    "tags": []
   },
   "outputs": [
    {
     "name": "stdout",
     "output_type": "stream",
     "text": [
      "\n",
      "Party Performance Comparison:\n",
      "                                               Party Performance_Comparison\n",
      "0                       Bharatiya Janata Party - BJP               National\n",
      "1                     Indian National Congress - INC               National\n",
      "2                               Samajwadi Party - SP                  Equal\n",
      "3                All India Trinamool Congress - AITC                  Equal\n",
      "4                    Dravida Munnetra Kazhagam - DMK                  Equal\n",
      "5                                 Telugu Desam - TDP                  Equal\n",
      "6                       Janata Dal  (United) - JD(U)                  Equal\n",
      "7     Shiv Sena (Uddhav Balasaheb Thackrey) - SHSUBT                  Equal\n",
      "8  Nationalist Congress Party – Sharadchandra Paw...                  Equal\n",
      "9                                    Shiv Sena - SHS                  Equal\n"
     ]
    }
   ],
   "source": [
    "#party perforemance comparison\n",
    "merged_data['Performance_Comparison'] = merged_data.apply(lambda x: 'National' if x['Won_national'] > x['Won_maharashtra'] else 'Maharashtra' if x['Won_maharashtra'] > x['Won_national'] else 'Equal', axis=1)\n",
    "print(\"\\nParty Performance Comparison:\")\n",
    "print(merged_data[['Party', 'Performance_Comparison']].head(10))\n"
   ]
  },
  {
   "cell_type": "code",
   "execution_count": 247,
   "id": "68734224-a135-4dcc-8d51-5881e9d32884",
   "metadata": {
    "tags": []
   },
   "outputs": [],
   "source": [
    "#Insight 10 - Percentage of Total Seats in National and Maharastra Elections"
   ]
  },
  {
   "cell_type": "code",
   "execution_count": 248,
   "id": "9c81ff58-bd35-4e65-bb7a-e89530eb553f",
   "metadata": {
    "collapsed": true,
    "jupyter": {
     "outputs_hidden": true
    },
    "tags": []
   },
   "outputs": [
    {
     "name": "stdout",
     "output_type": "stream",
     "text": [
      "\n",
      "Percentage of Total Seats:\n",
      "                                               Party  \\\n",
      "0                       Bharatiya Janata Party - BJP   \n",
      "1                     Indian National Congress - INC   \n",
      "2                               Samajwadi Party - SP   \n",
      "3                All India Trinamool Congress - AITC   \n",
      "4                    Dravida Munnetra Kazhagam - DMK   \n",
      "5                                 Telugu Desam - TDP   \n",
      "6                       Janata Dal  (United) - JD(U)   \n",
      "7     Shiv Sena (Uddhav Balasaheb Thackrey) - SHSUBT   \n",
      "8  Nationalist Congress Party – Sharadchandra Paw...   \n",
      "9                                    Shiv Sena - SHS   \n",
      "\n",
      "   Percentage_Total_national  Percentage_Total_maharashtra  \n",
      "0                  44.198895                     18.750000  \n",
      "1                  18.232044                     27.083333  \n",
      "2                   6.813996                           NaN  \n",
      "3                   5.340700                           NaN  \n",
      "4                   4.051565                           NaN  \n",
      "5                   2.946593                           NaN  \n",
      "6                   2.209945                           NaN  \n",
      "7                   1.657459                     18.750000  \n",
      "8                   1.473297                     16.666667  \n",
      "9                   1.289134                     14.583333  \n"
     ]
    }
   ],
   "source": [
    "merged_data['Percentage_Total_national'] = (merged_data['Won_national'] / merged_data['Won_national'].sum()) * 100\n",
    "merged_data['Percentage_Total_maharashtra'] = (merged_data['Won_maharashtra'] / merged_data['Won_maharashtra'].sum()) * 100\n",
    "print(\"\\nPercentage of Total Seats:\")\n",
    "print(merged_data[['Party', 'Percentage_Total_national', 'Percentage_Total_maharashtra']].head(10))\n"
   ]
  },
  {
   "cell_type": "code",
   "execution_count": null,
   "id": "daac9c86-17d8-4334-92a0-a9d827e30957",
   "metadata": {},
   "outputs": [],
   "source": [
    "#Insight 11 - Seats Comaprison on the basis of National and Maharatra count"
   ]
  },
  {
   "cell_type": "code",
   "execution_count": 249,
   "id": "8a0ad84f-c276-4fe6-99ca-0ce51af0f8bb",
   "metadata": {
    "collapsed": true,
    "jupyter": {
     "outputs_hidden": true
    },
    "tags": []
   },
   "outputs": [
    {
     "name": "stdout",
     "output_type": "stream",
     "text": [
      "\n",
      "Total Seats and Representation:\n",
      "                                               Party  \\\n",
      "0                       Bharatiya Janata Party - BJP   \n",
      "1                     Indian National Congress - INC   \n",
      "2                               Samajwadi Party - SP   \n",
      "3                All India Trinamool Congress - AITC   \n",
      "4                    Dravida Munnetra Kazhagam - DMK   \n",
      "5                                 Telugu Desam - TDP   \n",
      "6                       Janata Dal  (United) - JD(U)   \n",
      "7     Shiv Sena (Uddhav Balasaheb Thackrey) - SHSUBT   \n",
      "8  Nationalist Congress Party – Sharadchandra Paw...   \n",
      "9                                    Shiv Sena - SHS   \n",
      "\n",
      "   Representation_Percentage_national  Representation_Percentage_maharashtra  \n",
      "0                           44.198895                              18.750000  \n",
      "1                           18.232044                              27.083333  \n",
      "2                            6.813996                                    NaN  \n",
      "3                            5.340700                                    NaN  \n",
      "4                            4.051565                                    NaN  \n",
      "5                            2.946593                                    NaN  \n",
      "6                            2.209945                                    NaN  \n",
      "7                            1.657459                              18.750000  \n",
      "8                            1.473297                              16.666667  \n",
      "9                            1.289134                              14.583333  \n"
     ]
    }
   ],
   "source": [
    "total_seats_won_national = merged_data['Won_national'].sum()\n",
    "total_seats_won_maharashtra = merged_data['Won_maharashtra'].sum()\n",
    "merged_data['Representation_Percentage_national'] = (merged_data['Won_national'] / total_seats_won_national) * 100\n",
    "merged_data['Representation_Percentage_maharashtra'] = (merged_data['Won_maharashtra'] / total_seats_won_maharashtra) * 100\n",
    "print(\"\\nTotal Seats and Representation:\")\n",
    "print(merged_data[['Party', 'Representation_Percentage_national', 'Representation_Percentage_maharashtra']].head(10))\n"
   ]
  },
  {
   "cell_type": "code",
   "execution_count": null,
   "id": "de3016dc-a38d-4da4-a4f2-8072f96d9dd2",
   "metadata": {},
   "outputs": [],
   "source": []
  }
 ],
 "metadata": {
  "kernelspec": {
   "display_name": "Python 3 (ipykernel)",
   "language": "python",
   "name": "python3"
  },
  "language_info": {
   "codemirror_mode": {
    "name": "ipython",
    "version": 3
   },
   "file_extension": ".py",
   "mimetype": "text/x-python",
   "name": "python",
   "nbconvert_exporter": "python",
   "pygments_lexer": "ipython3",
   "version": "3.11.5"
  }
 },
 "nbformat": 4,
 "nbformat_minor": 5
}
